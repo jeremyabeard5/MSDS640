version https://git-lfs.github.com/spec/v1
oid sha256:27d62ba39d23f65c640f928ede84356258a04a59ffa331b6ef96cf256507667a
size 4273060
