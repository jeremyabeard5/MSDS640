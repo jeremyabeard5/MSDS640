version https://git-lfs.github.com/spec/v1
oid sha256:12f1141f4f59c77f71afe98a552ce6f505355d8065eef46f3ecbc26da6ce1ed8
size 114372
